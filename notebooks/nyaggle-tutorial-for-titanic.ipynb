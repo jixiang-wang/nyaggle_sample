{
 "cells": [
  {
   "cell_type": "markdown",
   "metadata": {},
   "source": [
    "# Tutorial for nyaggle\n",
    "This Jupyter Notebook basic usage.\n",
    "\n",
    "1. Intall nyaggle"
   ]
  },
  {
   "cell_type": "markdown",
   "metadata": {},
   "source": [
    "## Install nyaggle\n",
    "You can install nyaggle via [pip](https://pypi.org/project/nyaggle/)"
   ]
  },
  {
   "cell_type": "code",
   "execution_count": 1,
   "metadata": {},
   "outputs": [],
   "source": [
    "!pip install --quiet mlflow"
   ]
  },
  {
   "cell_type": "code",
   "execution_count": 2,
   "metadata": {
    "_cell_guid": "b1076dfc-b9ad-4769-8c92-a6c4dae69d19",
    "_uuid": "8f2839f25d086af736a60e9eeb907d3b93b6e0e5"
   },
   "outputs": [],
   "source": [
    "!pip install --quiet nyaggle"
   ]
  },
  {
   "cell_type": "code",
   "execution_count": 3,
   "metadata": {
    "_cell_guid": "79c7e3d0-c299-4dcb-8224-4455121ee9b0",
    "_uuid": "d629ff2d2480ee46fbb7e2d37f6b5fab8052498a"
   },
   "outputs": [
    {
     "data": {
      "text/plain": [
       "'0.1.2'"
      ]
     },
     "execution_count": 3,
     "metadata": {},
     "output_type": "execute_result"
    }
   ],
   "source": [
    "import nyaggle\n",
    "\n",
    "nyaggle.__version__"
   ]
  },
  {
   "cell_type": "code",
   "execution_count": 4,
   "metadata": {},
   "outputs": [],
   "source": [
    "import numpy as np\n",
    "import pandas as pd\n",
    "\n",
    "train = pd.read_csv(\"../input/titanic/train.csv\")\n",
    "test = pd.read_csv(\"../input/titanic/test.csv\")\n",
    "gender_submission = pd.read_csv(\"../input/titanic/gender_submission.csv\")"
   ]
  },
  {
   "cell_type": "code",
   "execution_count": 5,
   "metadata": {},
   "outputs": [],
   "source": [
    "target_col = 'Survived'\n",
    "target = train[target_col]\n",
    "train.drop(columns=[target_col], inplace=True)"
   ]
  },
  {
   "cell_type": "code",
   "execution_count": 6,
   "metadata": {},
   "outputs": [],
   "source": [
    "is_train = 'is_train'\n",
    "train[is_train] = 1\n",
    "test[is_train] = 0"
   ]
  },
  {
   "cell_type": "code",
   "execution_count": 7,
   "metadata": {},
   "outputs": [],
   "source": [
    "data = pd.concat([train, test], sort=False).reset_index(drop=True)"
   ]
  },
  {
   "cell_type": "code",
   "execution_count": 8,
   "metadata": {},
   "outputs": [
    {
     "data": {
      "text/html": [
       "<div>\n",
       "<style scoped>\n",
       "    .dataframe tbody tr th:only-of-type {\n",
       "        vertical-align: middle;\n",
       "    }\n",
       "\n",
       "    .dataframe tbody tr th {\n",
       "        vertical-align: top;\n",
       "    }\n",
       "\n",
       "    .dataframe thead th {\n",
       "        text-align: right;\n",
       "    }\n",
       "</style>\n",
       "<table border=\"1\" class=\"dataframe\">\n",
       "  <thead>\n",
       "    <tr style=\"text-align: right;\">\n",
       "      <th></th>\n",
       "      <th>PassengerId</th>\n",
       "      <th>Pclass</th>\n",
       "      <th>Name</th>\n",
       "      <th>Sex</th>\n",
       "      <th>Age</th>\n",
       "      <th>SibSp</th>\n",
       "      <th>Parch</th>\n",
       "      <th>Ticket</th>\n",
       "      <th>Fare</th>\n",
       "      <th>Cabin</th>\n",
       "      <th>Embarked</th>\n",
       "      <th>is_train</th>\n",
       "    </tr>\n",
       "  </thead>\n",
       "  <tbody>\n",
       "    <tr>\n",
       "      <th>0</th>\n",
       "      <td>1</td>\n",
       "      <td>3</td>\n",
       "      <td>Braund, Mr. Owen Harris</td>\n",
       "      <td>male</td>\n",
       "      <td>22.0</td>\n",
       "      <td>1</td>\n",
       "      <td>0</td>\n",
       "      <td>A/5 21171</td>\n",
       "      <td>7.2500</td>\n",
       "      <td>NaN</td>\n",
       "      <td>S</td>\n",
       "      <td>1</td>\n",
       "    </tr>\n",
       "    <tr>\n",
       "      <th>1</th>\n",
       "      <td>2</td>\n",
       "      <td>1</td>\n",
       "      <td>Cumings, Mrs. John Bradley (Florence Briggs Th...</td>\n",
       "      <td>female</td>\n",
       "      <td>38.0</td>\n",
       "      <td>1</td>\n",
       "      <td>0</td>\n",
       "      <td>PC 17599</td>\n",
       "      <td>71.2833</td>\n",
       "      <td>C85</td>\n",
       "      <td>C</td>\n",
       "      <td>1</td>\n",
       "    </tr>\n",
       "    <tr>\n",
       "      <th>2</th>\n",
       "      <td>3</td>\n",
       "      <td>3</td>\n",
       "      <td>Heikkinen, Miss. Laina</td>\n",
       "      <td>female</td>\n",
       "      <td>26.0</td>\n",
       "      <td>0</td>\n",
       "      <td>0</td>\n",
       "      <td>STON/O2. 3101282</td>\n",
       "      <td>7.9250</td>\n",
       "      <td>NaN</td>\n",
       "      <td>S</td>\n",
       "      <td>1</td>\n",
       "    </tr>\n",
       "    <tr>\n",
       "      <th>3</th>\n",
       "      <td>4</td>\n",
       "      <td>1</td>\n",
       "      <td>Futrelle, Mrs. Jacques Heath (Lily May Peel)</td>\n",
       "      <td>female</td>\n",
       "      <td>35.0</td>\n",
       "      <td>1</td>\n",
       "      <td>0</td>\n",
       "      <td>113803</td>\n",
       "      <td>53.1000</td>\n",
       "      <td>C123</td>\n",
       "      <td>S</td>\n",
       "      <td>1</td>\n",
       "    </tr>\n",
       "    <tr>\n",
       "      <th>4</th>\n",
       "      <td>5</td>\n",
       "      <td>3</td>\n",
       "      <td>Allen, Mr. William Henry</td>\n",
       "      <td>male</td>\n",
       "      <td>35.0</td>\n",
       "      <td>0</td>\n",
       "      <td>0</td>\n",
       "      <td>373450</td>\n",
       "      <td>8.0500</td>\n",
       "      <td>NaN</td>\n",
       "      <td>S</td>\n",
       "      <td>1</td>\n",
       "    </tr>\n",
       "  </tbody>\n",
       "</table>\n",
       "</div>"
      ],
      "text/plain": [
       "   PassengerId  Pclass                                               Name  \\\n",
       "0            1       3                            Braund, Mr. Owen Harris   \n",
       "1            2       1  Cumings, Mrs. John Bradley (Florence Briggs Th...   \n",
       "2            3       3                             Heikkinen, Miss. Laina   \n",
       "3            4       1       Futrelle, Mrs. Jacques Heath (Lily May Peel)   \n",
       "4            5       3                           Allen, Mr. William Henry   \n",
       "\n",
       "      Sex   Age  SibSp  Parch            Ticket     Fare Cabin Embarked  \\\n",
       "0    male  22.0      1      0         A/5 21171   7.2500   NaN        S   \n",
       "1  female  38.0      1      0          PC 17599  71.2833   C85        C   \n",
       "2  female  26.0      0      0  STON/O2. 3101282   7.9250   NaN        S   \n",
       "3  female  35.0      1      0            113803  53.1000  C123        S   \n",
       "4    male  35.0      0      0            373450   8.0500   NaN        S   \n",
       "\n",
       "   is_train  \n",
       "0         1  \n",
       "1         1  \n",
       "2         1  \n",
       "3         1  \n",
       "4         1  "
      ]
     },
     "execution_count": 8,
     "metadata": {},
     "output_type": "execute_result"
    }
   ],
   "source": [
    "data.head()"
   ]
  },
  {
   "cell_type": "code",
   "execution_count": 9,
   "metadata": {},
   "outputs": [],
   "source": [
    "import nyaggle.feature_store as fs\n",
    "\n",
    "@fs.cached_feature(\"all_feature\")\n",
    "def all_feature(df: pd.DataFrame) -> pd.DataFrame:\n",
    "    df['Sex'] = df['Sex'].replace(['male','female'], [0, 1])\n",
    "    df['Embarked'] = df['Embarked'].fillna(('S'))\n",
    "    df['Embarked'] = df['Embarked'].map( {'S': 0, 'C': 1, 'Q': 2} ).astype(int)\n",
    "    df['Fare'] = df['Fare'].fillna(np.mean(df['Fare']))\n",
    "    df['Age'] = df['Age'].fillna(df['Age'].median())\n",
    "    delete_columns = ['Name', 'PassengerId', 'SibSp', 'Parch', 'Ticket', 'Cabin']\n",
    "    df = df.drop(delete_columns, axis=1)\n",
    "    return df"
   ]
  },
  {
   "cell_type": "code",
   "execution_count": 10,
   "metadata": {},
   "outputs": [],
   "source": [
    "_all_feature = all_feature(data)\n",
    "# _embarked_feature = embarked_feature(data)"
   ]
  },
  {
   "cell_type": "code",
   "execution_count": 11,
   "metadata": {},
   "outputs": [
    {
     "name": "stdout",
     "output_type": "stream",
     "text": [
      "all_feature.f\r\n"
     ]
    }
   ],
   "source": [
    "%ls features/"
   ]
  },
  {
   "cell_type": "code",
   "execution_count": 12,
   "metadata": {},
   "outputs": [
    {
     "data": {
      "text/html": [
       "<div>\n",
       "<style scoped>\n",
       "    .dataframe tbody tr th:only-of-type {\n",
       "        vertical-align: middle;\n",
       "    }\n",
       "\n",
       "    .dataframe tbody tr th {\n",
       "        vertical-align: top;\n",
       "    }\n",
       "\n",
       "    .dataframe thead th {\n",
       "        text-align: right;\n",
       "    }\n",
       "</style>\n",
       "<table border=\"1\" class=\"dataframe\">\n",
       "  <thead>\n",
       "    <tr style=\"text-align: right;\">\n",
       "      <th></th>\n",
       "      <th>Pclass</th>\n",
       "      <th>Sex</th>\n",
       "      <th>Age</th>\n",
       "      <th>Fare</th>\n",
       "      <th>Embarked</th>\n",
       "      <th>is_train</th>\n",
       "    </tr>\n",
       "  </thead>\n",
       "  <tbody>\n",
       "    <tr>\n",
       "      <th>0</th>\n",
       "      <td>3</td>\n",
       "      <td>0</td>\n",
       "      <td>22.0</td>\n",
       "      <td>7.2500</td>\n",
       "      <td>0</td>\n",
       "      <td>1</td>\n",
       "    </tr>\n",
       "    <tr>\n",
       "      <th>1</th>\n",
       "      <td>1</td>\n",
       "      <td>1</td>\n",
       "      <td>38.0</td>\n",
       "      <td>71.2833</td>\n",
       "      <td>1</td>\n",
       "      <td>1</td>\n",
       "    </tr>\n",
       "    <tr>\n",
       "      <th>2</th>\n",
       "      <td>3</td>\n",
       "      <td>1</td>\n",
       "      <td>26.0</td>\n",
       "      <td>7.9250</td>\n",
       "      <td>0</td>\n",
       "      <td>1</td>\n",
       "    </tr>\n",
       "    <tr>\n",
       "      <th>3</th>\n",
       "      <td>1</td>\n",
       "      <td>1</td>\n",
       "      <td>35.0</td>\n",
       "      <td>53.1000</td>\n",
       "      <td>0</td>\n",
       "      <td>1</td>\n",
       "    </tr>\n",
       "    <tr>\n",
       "      <th>4</th>\n",
       "      <td>3</td>\n",
       "      <td>0</td>\n",
       "      <td>35.0</td>\n",
       "      <td>8.0500</td>\n",
       "      <td>0</td>\n",
       "      <td>1</td>\n",
       "    </tr>\n",
       "  </tbody>\n",
       "</table>\n",
       "</div>"
      ],
      "text/plain": [
       "   Pclass  Sex   Age     Fare  Embarked  is_train\n",
       "0       3    0  22.0   7.2500         0         1\n",
       "1       1    1  38.0  71.2833         1         1\n",
       "2       3    1  26.0   7.9250         0         1\n",
       "3       1    1  35.0  53.1000         0         1\n",
       "4       3    0  35.0   8.0500         0         1"
      ]
     },
     "execution_count": 12,
     "metadata": {},
     "output_type": "execute_result"
    }
   ],
   "source": [
    "_all_feature.head()"
   ]
  },
  {
   "cell_type": "code",
   "execution_count": 13,
   "metadata": {},
   "outputs": [],
   "source": [
    "del _all_feature"
   ]
  },
  {
   "cell_type": "code",
   "execution_count": 14,
   "metadata": {},
   "outputs": [],
   "source": [
    "_all_feature = all_feature(data)"
   ]
  },
  {
   "cell_type": "code",
   "execution_count": 15,
   "metadata": {},
   "outputs": [
    {
     "name": "stderr",
     "output_type": "stream",
     "text": [
      "/opt/conda/lib/python3.6/site-packages/pandas/core/frame.py:4117: SettingWithCopyWarning: \n",
      "A value is trying to be set on a copy of a slice from a DataFrame\n",
      "\n",
      "See the caveats in the documentation: http://pandas.pydata.org/pandas-docs/stable/user_guide/indexing.html#returning-a-view-versus-a-copy\n",
      "  errors=errors,\n"
     ]
    }
   ],
   "source": [
    "train, test = _all_feature[_all_feature[is_train] == 1], _all_feature[_all_feature[is_train] == 0]\n",
    "train.drop(columns=[is_train], inplace=True)\n",
    "test.drop(columns=[is_train], inplace=True)"
   ]
  },
  {
   "cell_type": "code",
   "execution_count": 16,
   "metadata": {},
   "outputs": [
    {
     "data": {
      "text/plain": [
       "[{'num_leaves': 333,\n",
       "  'min_child_weight': 0.03454472573214212,\n",
       "  'feature_fraction': 0.3797454081646243,\n",
       "  'bagging_fraction': 0.4181193142567742,\n",
       "  'min_data_in_leaf': 106,\n",
       "  'objective': 'binary',\n",
       "  'max_depth': -1,\n",
       "  'learning_rate': 0.006883242363721497,\n",
       "  'boosting_type': 'gbdt',\n",
       "  'metric': 'auc',\n",
       "  'reg_alpha': 0.3899927210061127,\n",
       "  'reg_lambda': 0.6485237330340494},\n",
       " {'objective': 'binary',\n",
       "  'metric': 'None',\n",
       "  'learning_rate': 0.01,\n",
       "  'num_leaves': 256,\n",
       "  'max_bin': 255,\n",
       "  'max_depth': -1,\n",
       "  'bagging_freq': 5,\n",
       "  'bagging_fraction': 0.7,\n",
       "  'feature_fraction': 0.7,\n",
       "  'first_metric_only': True},\n",
       " {'num_leaves': 4,\n",
       "  'min_data_in_leaf': 5,\n",
       "  'objective': 'fair',\n",
       "  'max_depth': -1,\n",
       "  'learning_rate': 0.02,\n",
       "  'boosting': 'gbdt',\n",
       "  'boost_from_average': True,\n",
       "  'feature_fraction': 0.9,\n",
       "  'bagging_freq': 1,\n",
       "  'bagging_fraction': 0.5,\n",
       "  'max_bin': 500,\n",
       "  'reg_alpha': 0,\n",
       "  'reg_lambda': 0},\n",
       " {'objective': 'gamma',\n",
       "  'max_depth': -1,\n",
       "  'feature_fraction': 0.025,\n",
       "  'bagging_fraction': 0.25,\n",
       "  'bagging_freq': 1,\n",
       "  'num_leaves': 7,\n",
       "  'min_data_in_bin': 2,\n",
       "  'max_bin': 25,\n",
       "  'min_data_in_leaf': 4,\n",
       "  'lambda_l1': 1.1,\n",
       "  'lambda_l2': 0.1,\n",
       "  'learning_rate': 0.01},\n",
       " {'bagging_freq': 5,\n",
       "  'bagging_fraction': 1.0,\n",
       "  'boost_from_average': 'false',\n",
       "  'boost': 'gbdt',\n",
       "  'feature_fraction': 1.0,\n",
       "  'learning_rate': 0.005,\n",
       "  'max_depth': -1,\n",
       "  'min_data_in_leaf': 30,\n",
       "  'min_sum_hessian_in_leaf': 10.0,\n",
       "  'num_leaves': 64,\n",
       "  'tree_learner': 'serial',\n",
       "  'metric': 'binary_logloss',\n",
       "  'objective': 'binary'},\n",
       " {'num_leaves': 8,\n",
       "  'min_data_in_leaf': 42,\n",
       "  'objective': 'binary',\n",
       "  'max_depth': 16,\n",
       "  'learning_rate': 0.03,\n",
       "  'boosting': 'gbdt',\n",
       "  'bagging_freq': 5,\n",
       "  'bagging_fraction': 0.8,\n",
       "  'feature_fraction': 0.8201,\n",
       "  'reg_alpha': 1.7289,\n",
       "  'reg_lambda': 4.984,\n",
       "  'metric': 'auc',\n",
       "  'subsample': 0.81,\n",
       "  'min_gain_to_split': 0.01,\n",
       "  'min_child_weight': 19.428},\n",
       " {'objective': 'regression',\n",
       "  'metric': 'rmse',\n",
       "  'learning_rate': 0.01,\n",
       "  'num_leaves': 63,\n",
       "  'subsample': 0.9,\n",
       "  'subsample_freq': 1,\n",
       "  'colsample_bytree': 0.6,\n",
       "  'max_depth': 9,\n",
       "  'max_bin': 127,\n",
       "  'reg_alpha': 0.11,\n",
       "  'reg_lambda': 0.01,\n",
       "  'min_child_weight': 0.2,\n",
       "  'min_child_samples': 20,\n",
       "  'min_gain_to_split': 0.02,\n",
       "  'min_data_in_bin': 3,\n",
       "  'bin_construct_sample_cnt': 5000,\n",
       "  'cat_l2': 10},\n",
       " {'objective': 'binary',\n",
       "  'boosting': 'gbdt',\n",
       "  'metric': 'binary_logloss',\n",
       "  'learning_rate': 0.01,\n",
       "  'num_leaves': 80,\n",
       "  'feature_fraction': 0.8,\n",
       "  'bagging_freq': 1,\n",
       "  'bagging_fraction': 0.8},\n",
       " {'boosting_type': 'gbdt',\n",
       "  'colsample_bytree': 0.6027132059774907,\n",
       "  'learning_rate': 0.010899921631042043,\n",
       "  'min_child_samples': 145,\n",
       "  'num_leaves': 156,\n",
       "  'reg_alpha': 0.45996805852518485,\n",
       "  'reg_lambda': 0.7336912016500579,\n",
       "  'subsample_for_bin': 440000,\n",
       "  'subsample': 0.5512957111882841},\n",
       " {'num_leaves': 128,\n",
       "  'min_data_in_leaf': 42,\n",
       "  'objective': 'binary',\n",
       "  'metric': 'auc',\n",
       "  'max_depth': -1,\n",
       "  'learning_rate': 0.05,\n",
       "  'boosting': 'gbdt',\n",
       "  'feature_fraction': 0.8,\n",
       "  'bagging_freq': 5,\n",
       "  'bagging_fraction': 0.8,\n",
       "  'lambda_l1': 0.15,\n",
       "  'lambda_l2': 0.15},\n",
       " {'objective': 'regression',\n",
       "  'metric': 'rmse',\n",
       "  'learning_rate': 0.01,\n",
       "  'subsample': 0.78,\n",
       "  'max_depth': 8,\n",
       "  'num_leaves': 63,\n",
       "  'min_child_weight': 41.9612,\n",
       "  'reg_alpha': 9.677,\n",
       "  'colsample_bytree': 0.566,\n",
       "  'min_split_gain': 8.82,\n",
       "  'reg_lambda': 9.253,\n",
       "  'min_data_in_leaf': 21},\n",
       " {'objective': 'regression',\n",
       "  'max_bin': 256,\n",
       "  'learning_rate': 0.01,\n",
       "  'num_leaves': 9,\n",
       "  'bagging_fraction': 0.9,\n",
       "  'feature_fraction': 0.8,\n",
       "  'min_data': 1,\n",
       "  'bagging_freq': 1,\n",
       "  'metric': 'rmse'},\n",
       " {'boosting_type': 'gbdt',\n",
       "  'objective': 'multiclass',\n",
       "  'metric': 'multi_logloss',\n",
       "  'learning_rate': 0.05,\n",
       "  'colsample_bytree': 0.5,\n",
       "  'reg_alpha': 0.0,\n",
       "  'reg_lambda': 0.0,\n",
       "  'min_split_gain': 10.0,\n",
       "  'min_child_weight': 2000.0,\n",
       "  'max_depth': 7,\n",
       "  'num_leaves': 50},\n",
       " {'boosting_type': 'gbdt',\n",
       "  'objective': 'multiclass',\n",
       "  'metric': 'multi_logloss',\n",
       "  'subsample': 0.9,\n",
       "  'colsample_bytree': 0.9,\n",
       "  'reg_alpha': 0,\n",
       "  'reg_lambda': 3,\n",
       "  'min_split_gain': 0,\n",
       "  'min_child_weight': 10,\n",
       "  'learning_rate': 0.1,\n",
       "  'max_depth': 3,\n",
       "  'min_data_in_leaf': 1,\n",
       "  'max_bin': 128,\n",
       "  'bagging_fraction': 0.66},\n",
       " {'objective': 'binary',\n",
       "  'metric': 'auc',\n",
       "  'learning_rate': 0.01,\n",
       "  'max_depth': 6,\n",
       "  'num_leaves': 63,\n",
       "  'max_bin': 255,\n",
       "  'min_child_weight': 10,\n",
       "  'min_data_in_leaf': 150,\n",
       "  'reg_lambda': 0.5,\n",
       "  'reg_alpha': 0.5,\n",
       "  'colsample_bytree': 0.7,\n",
       "  'subsample': 0.9,\n",
       "  'bagging_freq': 1},\n",
       " {'boosting_type': 'goss',\n",
       "  'learning_rate': 0.005134,\n",
       "  'num_leaves': 54,\n",
       "  'max_depth': 10,\n",
       "  'subsample_for_bin': 240000,\n",
       "  'reg_alpha': 0.436193,\n",
       "  'reg_lambda': 0.479169,\n",
       "  'colsample_bytree': 0.508716,\n",
       "  'min_split_gain': 0.024766,\n",
       "  'subsample': 1},\n",
       " {'objective': 'regression',\n",
       "  'metric': 'rmse',\n",
       "  'boosting': 'gbdt',\n",
       "  'is_training_metric': True,\n",
       "  'max_bin': 350,\n",
       "  'learning_rate': 0.005,\n",
       "  'max_depth': -1,\n",
       "  'num_leaves': 48,\n",
       "  'feature_fraction': 0.1,\n",
       "  'reg_alpha': 0,\n",
       "  'reg_lambda': 0.2,\n",
       "  'min_child_weight': 10},\n",
       " {'boosting_type': 'gbdt',\n",
       "  'objective': 'regression',\n",
       "  'metric': 'rmse',\n",
       "  'learning_rate': 0.01,\n",
       "  'num_leaves': 400,\n",
       "  'colsample_bytree': 0.45},\n",
       " {'task': 'train',\n",
       "  'boosting_type': 'gbdt',\n",
       "  'objective': 'regression',\n",
       "  'metric': 'rmse',\n",
       "  'num_leaves': 1000,\n",
       "  'learning_rate': 0.02,\n",
       "  'feature_fraction': 0.5},\n",
       " {'boosting_type': 'gbdt',\n",
       "  'objective': 'binary',\n",
       "  'learning_rate': 0.01,\n",
       "  'num_leaves': 255,\n",
       "  'max_depth': 8,\n",
       "  'min_child_samples': 200,\n",
       "  'subsample': 0.9,\n",
       "  'subsample_freq': 1,\n",
       "  'colsample_bytree': 0.5,\n",
       "  'min_child_weight': 0,\n",
       "  'subsample_for_bin': 1000000,\n",
       "  'min_split_gain': 0,\n",
       "  'reg_lambda': 0},\n",
       " {'objective': 'binary',\n",
       "  'learning_rate': 0.1,\n",
       "  'num_leaves': 15,\n",
       "  'max_bin': 256,\n",
       "  'feature_fraction': 0.6,\n",
       "  'drop_rate': 0.1,\n",
       "  'is_unbalance': False,\n",
       "  'max_drop': 50,\n",
       "  'min_child_samples': 10,\n",
       "  'min_child_weight': 150,\n",
       "  'min_split_gain': 0,\n",
       "  'subsample': 0.9},\n",
       " {'objective': 'binary',\n",
       "  'metric': 'auc',\n",
       "  'boosting_type': 'dart',\n",
       "  'learning_rate': 0.01,\n",
       "  'max_bin': 15,\n",
       "  'max_depth': 17,\n",
       "  'num_leaves': 63,\n",
       "  'subsample': 0.8,\n",
       "  'subsample_freq': 5,\n",
       "  'colsample_bytree': 0.8,\n",
       "  'reg_lambda': 7},\n",
       " {'num_leaves': 255,\n",
       "  'objective': 'regression_l2',\n",
       "  'max_depth': 9,\n",
       "  'min_data_in_leaf': 50,\n",
       "  'learning_rate': 0.007,\n",
       "  'feature_fraction': 0.6,\n",
       "  'bagging_fraction': 0.8,\n",
       "  'bagging_freq': 1,\n",
       "  'metric': 'rmse'},\n",
       " {'objective': 'regression',\n",
       "  'max_depth': 5,\n",
       "  'num_leaves': 24,\n",
       "  'learning_rate': 0.007,\n",
       "  'n_estimators': 30000,\n",
       "  'min_child_samples': 80,\n",
       "  'subsample': 0.8,\n",
       "  'colsample_bytree': 1,\n",
       "  'reg_alpha': 0,\n",
       "  'reg_lambda': 0}]"
      ]
     },
     "execution_count": 16,
     "metadata": {},
     "output_type": "execute_result"
    }
   ],
   "source": [
    "from nyaggle.hyper_parameters import list_hyperparams\n",
    "\n",
    "list_hyperparams()"
   ]
  },
  {
   "cell_type": "code",
   "execution_count": 17,
   "metadata": {},
   "outputs": [
    {
     "name": "stderr",
     "output_type": "stream",
     "text": [
      "/opt/conda/lib/python3.6/site-packages/lightgbm/basic.py:1295: UserWarning:\n",
      "\n",
      "categorical_feature in Dataset is overridden.\n",
      "New categorical_feature is []\n",
      "\n"
     ]
    },
    {
     "name": "stdout",
     "output_type": "stream",
     "text": [
      "Training until validation scores don't improve for 100 rounds\n",
      "[100]\tvalid_0's auc: 0.817775\n",
      "Did not meet early stopping. Best iteration is:\n",
      "[99]\tvalid_0's auc: 0.817775\n"
     ]
    },
    {
     "name": "stderr",
     "output_type": "stream",
     "text": [
      "/opt/conda/lib/python3.6/site-packages/lightgbm/basic.py:1295: UserWarning:\n",
      "\n",
      "categorical_feature in Dataset is overridden.\n",
      "New categorical_feature is []\n",
      "\n"
     ]
    },
    {
     "name": "stdout",
     "output_type": "stream",
     "text": [
      "Training until validation scores don't improve for 100 rounds\n",
      "[100]\tvalid_0's auc: 0.846121\n",
      "Did not meet early stopping. Best iteration is:\n",
      "[56]\tvalid_0's auc: 0.850195\n"
     ]
    },
    {
     "name": "stderr",
     "output_type": "stream",
     "text": [
      "/opt/conda/lib/python3.6/site-packages/lightgbm/basic.py:1295: UserWarning:\n",
      "\n",
      "categorical_feature in Dataset is overridden.\n",
      "New categorical_feature is []\n",
      "\n"
     ]
    },
    {
     "name": "stdout",
     "output_type": "stream",
     "text": [
      "Training until validation scores don't improve for 100 rounds\n",
      "[100]\tvalid_0's auc: 0.855585\n",
      "Did not meet early stopping. Best iteration is:\n",
      "[11]\tvalid_0's auc: 0.857749\n"
     ]
    },
    {
     "name": "stderr",
     "output_type": "stream",
     "text": [
      "/opt/conda/lib/python3.6/site-packages/lightgbm/basic.py:1295: UserWarning:\n",
      "\n",
      "categorical_feature in Dataset is overridden.\n",
      "New categorical_feature is []\n",
      "\n"
     ]
    },
    {
     "name": "stdout",
     "output_type": "stream",
     "text": [
      "Training until validation scores don't improve for 100 rounds\n",
      "[100]\tvalid_0's auc: 0.855088\n",
      "Did not meet early stopping. Best iteration is:\n",
      "[95]\tvalid_0's auc: 0.855088\n"
     ]
    },
    {
     "data": {
      "image/png": "[encoded data removed]",
      "text/plain": [
       "<Figure size 720x1152 with 1 Axes>"
      ]
     },
     "metadata": {
      "needs_background": "light"
     },
     "output_type": "display_data"
    }
   ],
   "source": [
    "from sklearn.metrics import roc_auc_score\n",
    "from sklearn.model_selection import StratifiedKFold\n",
    "from nyaggle.experiment import run_experiment\n",
    "\n",
    "skf = StratifiedKFold(4)\n",
    "\n",
    "lgb_params = {'num_leaves': 8,\n",
    "  'min_data_in_leaf': 42,\n",
    "  'objective': 'binary',\n",
    "  'max_depth': 16,\n",
    "  'learning_rate': 0.03,\n",
    "  'boosting': 'gbdt',\n",
    "  'bagging_freq': 5,\n",
    "  'bagging_fraction': 0.8,\n",
    "  'feature_fraction': 0.8201,\n",
    "  'reg_alpha': 1.7289,\n",
    "  'reg_lambda': 4.984,\n",
    "  'metric': 'auc',\n",
    "  'subsample': 0.81,\n",
    "  'min_gain_to_split': 0.01,\n",
    "  'min_child_weight': 19.428}\n",
    "\n",
    "fit_params = {\n",
    "    \"early_stopping_rounds\": 100,\n",
    "    \"verbose\": 100\n",
    "}\n",
    "\n",
    "result = run_experiment(lgb_params,\n",
    "                        train, target, test, fit_params=fit_params,\n",
    "                        cv=skf, eval_func=roc_auc_score, sample_submission=gender_submission,\n",
    "                        with_mlflow=True)"
   ]
  },
  {
   "cell_type": "code",
   "execution_count": 18,
   "metadata": {},
   "outputs": [],
   "source": [
    "# !mlflow ui"
   ]
  },
  {
   "cell_type": "code",
   "execution_count": null,
   "metadata": {},
   "outputs": [],
   "source": []
  }
 ],
 "metadata": {
  "kernelspec": {
   "display_name": "Python 3",
   "language": "python",
   "name": "python3"
  },
  "language_info": {
   "codemirror_mode": {
    "name": "ipython",
    "version": 3
   },
   "file_extension": ".py",
   "mimetype": "text/x-python",
   "name": "python",
   "nbconvert_exporter": "python",
   "pygments_lexer": "ipython3",
   "version": "3.6.6"
  }
 },
 "nbformat": 4,
 "nbformat_minor": 4
}
